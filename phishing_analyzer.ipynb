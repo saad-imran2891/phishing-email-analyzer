{
  "nbformat": 4,
  "nbformat_minor": 0,
  "metadata": {
    "colab": {
      "provenance": []
    },
    "kernelspec": {
      "name": "python3",
      "display_name": "Python 3"
    },
    "language_info": {
      "name": "python"
    }
  },
  "cells": [
    {
      "cell_type": "code",
      "execution_count": 3,
      "metadata": {
        "colab": {
          "base_uri": "https://localhost:8080/"
        },
        "id": "gVeN7XUSMJXC",
        "outputId": "5d592b61-94fd-43c6-a20c-6a61e9153668"
      },
      "outputs": [
        {
          "output_type": "stream",
          "name": "stdout",
          "text": [
            "🔍 Analyzing your dataset...\n",
            "📊 Dataset info:\n",
            "Total emails: 18650\n",
            "Safe Emails: 11322\n",
            "Phishing Emails: 7328\n",
            "Label distribution:\n",
            "Email Type\n",
            "Safe Email        11322\n",
            "Phishing Email     7328\n",
            "Name: count, dtype: int64\n",
            "\n",
            "✅ Prepared 18650 emails for training!\n"
          ]
        }
      ],
      "source": [
        "\n",
        "print(\"🔍 Analyzing your dataset...\")\n",
        "\n",
        "data['label'] = data['Email Type'].map({'Safe Email': 0, 'Phishing Email': 1})\n",
        "\n",
        "print(\"📊 Dataset info:\")\n",
        "print(f\"Total emails: {len(data)}\")\n",
        "print(f\"Safe Emails: {len(data[data['label'] == 0])}\")\n",
        "print(f\"Phishing Emails: {len(data[data['label'] == 1])}\")\n",
        "print(f\"Label distribution:\\n{data['Email Type'].value_counts()}\")\n",
        "\n",
        "X_text = data['Email Text'].fillna('').astype(str)\n",
        "y = data['label']\n",
        "\n",
        "print(f\"\\n✅ Prepared {len(X_text)} emails for training!\")"
      ]
    },
    {
      "cell_type": "code",
      "source": [
        "print(\"🛠️ Building the ML model...\")\n",
        "\n",
        "vectorizer = TfidfVectorizer(max_features=1500, stop_words='english')\n",
        "X = vectorizer.fit_transform(X_text)\n",
        "\n",
        "print(f\"📊 Feature matrix shape: {X.shape}\")\n",
        "\n",
        "X_train, X_test, y_train, y_test = train_test_split(X, y, test_size=0.2, random_state=42)\n",
        "\n",
        "print(f\"📚 Training set: {X_train.shape[0]} emails\")\n",
        "print(f\"🧪 Testing set: {X_test.shape[0]} emails\")\n",
        "\n",
        "# Train the model\n",
        "model = RandomForestClassifier(n_estimators=100, random_state=42)\n",
        "model.fit(X_train, y_train)\n",
        "\n",
        "print(\"✅ Model trained successfully!\")\n",
        "\n",
        "predictions = model.predict(X_test)\n",
        "accuracy = accuracy_score(y_test, predictions)\n",
        "\n",
        "print(f\" Model Accuracy: {accuracy:.2%}\")\n",
        "print(\"\\n Detailed Performance:\")\n",
        "print(classification_report(y_test, predictions))\n",
        "\n",
        "joblib.dump(model, 'phishing_model.pkl')\n",
        "joblib.dump(vectorizer, 'vectorizer.pkl')\n",
        "\n",
        "print(\"💾 Model saved for the next step!\")"
      ],
      "metadata": {
        "colab": {
          "base_uri": "https://localhost:8080/"
        },
        "id": "eukHXj2JPDWl",
        "outputId": "c76c6a17-446d-43cf-d4c3-6b0ad9ad46de"
      },
      "execution_count": 9,
      "outputs": [
        {
          "output_type": "stream",
          "name": "stdout",
          "text": [
            "🛠️ Building the ML model...\n",
            "📊 Feature matrix shape: (18650, 1500)\n",
            "📚 Training set: 14920 emails\n",
            "🧪 Testing set: 3730 emails\n",
            "✅ Model trained successfully!\n",
            " Model Accuracy: 95.82%\n",
            "\n",
            " Detailed Performance:\n",
            "              precision    recall  f1-score   support\n",
            "\n",
            "           0       0.98      0.95      0.97      2273\n",
            "           1       0.93      0.96      0.95      1457\n",
            "\n",
            "    accuracy                           0.96      3730\n",
            "   macro avg       0.95      0.96      0.96      3730\n",
            "weighted avg       0.96      0.96      0.96      3730\n",
            "\n",
            "💾 Model saved for the next step!\n"
          ]
        }
      ]
    },
    {
      "cell_type": "code",
      "source": [
        "\n",
        "print(\" Testing your model with sample emails...\")\n",
        "test_emails = [\n",
        "    \"Your account has been compromised. Click here to verify your identity: http://fake-bank-security.com\",\n",
        "    \"Hi team, the meeting is moved to 3 PM tomorrow in conference room B.\",\n",
        "    \"URGENT: Your PayPal account will be suspended. Verify now: http://paypal-security-update.com\",\n",
        "    \"Thanks for your order #12345. Your package will arrive tomorrow.\"\n",
        "]\n",
        "\n",
        "print(\"Testing sample emails:\")\n",
        "for i, email in enumerate(test_emails, 1):\n",
        "    features = vectorizer.transform([email])\n",
        "    prediction = model.predict(features)[0]\n",
        "    probability = model.predict_proba(features)[0]\n",
        "\n",
        "    result = \"PHISHING\" if prediction == 1 else \"SAFE\"\n",
        "    confidence = probability[1] if prediction == 1 else probability[0]\n",
        "\n",
        "    print(f\"Email {i}: {result} ({confidence:.2%})\")\n",
        "    print(f\"   Text: {email[:80]}...\")\n",
        "    print()"
      ],
      "metadata": {
        "colab": {
          "base_uri": "https://localhost:8080/"
        },
        "id": "Kwtq6HbCPyS7",
        "outputId": "54024ceb-61e9-4c58-915c-0889f47acbe9"
      },
      "execution_count": 10,
      "outputs": [
        {
          "output_type": "stream",
          "name": "stdout",
          "text": [
            " Testing your model with sample emails...\n",
            "Testing sample emails:\n",
            "Email 1: PHISHING (95.00%)\n",
            "   Text: Your account has been compromised. Click here to verify your identity: http://fa...\n",
            "\n",
            "Email 2: SAFE (95.00%)\n",
            "   Text: Hi team, the meeting is moved to 3 PM tomorrow in conference room B....\n",
            "\n",
            "Email 3: PHISHING (81.00%)\n",
            "   Text: URGENT: Your PayPal account will be suspended. Verify now: http://paypal-securit...\n",
            "\n",
            "Email 4: SAFE (51.00%)\n",
            "   Text: Thanks for your order #12345. Your package will arrive tomorrow....\n",
            "\n"
          ]
        }
      ]
    },
    {
      "cell_type": "code",
      "source": [
        "# FINAL SHOWCASE CELL\n",
        "print(\"🎯 AI SECURITY ENGINEER PORTFOLIO PROJECT\")\n",
        "print(\"=\" * 50)\n",
        "print(\"Phishing Email Detection System\")\n",
        "print(\"• 18,650 emails processed\")\n",
        "print(\"• 95.82% accuracy achieved\")\n",
        "print(\"• Random Forest + TF-IDF\")\n",
        "print(\"• Production-ready model\")\n",
        "print(\"=\" * 50)\n",
        "print(\"Next: Malware Detection System →\")"
      ],
      "metadata": {
        "colab": {
          "base_uri": "https://localhost:8080/"
        },
        "id": "mx94Yn1hQuKN",
        "outputId": "00c8f8f0-b5e3-42a2-edf7-a29d8d46cbfd"
      },
      "execution_count": 11,
      "outputs": [
        {
          "output_type": "stream",
          "name": "stdout",
          "text": [
            "🎯 AI SECURITY ENGINEER PORTFOLIO PROJECT\n",
            "==================================================\n",
            "Phishing Email Detection System\n",
            "• 18,650 emails processed\n",
            "• 95.82% accuracy achieved\n",
            "• Random Forest + TF-IDF\n",
            "• Production-ready model\n",
            "==================================================\n",
            "Next: Malware Detection System →\n"
          ]
        }
      ]
    }
  ]
}